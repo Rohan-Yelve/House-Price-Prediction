{
 "cells": [
  {
   "cell_type": "code",
   "execution_count": 1,
   "id": "c57ff190",
   "metadata": {},
   "outputs": [],
   "source": [
    "import pandas as pd\n",
    "import numpy as np\n",
    "from matplotlib import pyplot as plt\n",
    "import seaborn as sns\n",
    "%matplotlib inline\n",
    "sns.set()"
   ]
  },
  {
   "cell_type": "code",
   "execution_count": 2,
   "id": "315b7904",
   "metadata": {},
   "outputs": [],
   "source": [
    "import warnings\n",
    "warnings.filterwarnings('ignore')"
   ]
  },
  {
   "cell_type": "code",
   "execution_count": 3,
   "id": "b754fe29",
   "metadata": {},
   "outputs": [],
   "source": [
    "df = pd.read_csv('House_p_p.csv')"
   ]
  },
  {
   "cell_type": "code",
   "execution_count": 4,
   "id": "de0daeb1",
   "metadata": {},
   "outputs": [
    {
     "data": {
      "text/html": [
       "<div>\n",
       "<style scoped>\n",
       "    .dataframe tbody tr th:only-of-type {\n",
       "        vertical-align: middle;\n",
       "    }\n",
       "\n",
       "    .dataframe tbody tr th {\n",
       "        vertical-align: top;\n",
       "    }\n",
       "\n",
       "    .dataframe thead th {\n",
       "        text-align: right;\n",
       "    }\n",
       "</style>\n",
       "<table border=\"1\" class=\"dataframe\">\n",
       "  <thead>\n",
       "    <tr style=\"text-align: right;\">\n",
       "      <th></th>\n",
       "      <th>POSTED_BY</th>\n",
       "      <th>UNDER_CONSTRUCTION</th>\n",
       "      <th>RERA</th>\n",
       "      <th>BHK_NO.</th>\n",
       "      <th>BHK_OR_RK</th>\n",
       "      <th>SQUARE_FT</th>\n",
       "      <th>READY_TO_MOVE</th>\n",
       "      <th>RESALE</th>\n",
       "      <th>ADDRESS</th>\n",
       "      <th>LONGITUDE</th>\n",
       "      <th>LATITUDE</th>\n",
       "      <th>TARGET(PRICE_IN_LACS)</th>\n",
       "    </tr>\n",
       "  </thead>\n",
       "  <tbody>\n",
       "    <tr>\n",
       "      <th>0</th>\n",
       "      <td>Owner</td>\n",
       "      <td>0</td>\n",
       "      <td>0</td>\n",
       "      <td>2</td>\n",
       "      <td>BHK</td>\n",
       "      <td>1300.236407</td>\n",
       "      <td>1</td>\n",
       "      <td>1</td>\n",
       "      <td>Ksfc Layout,Bangalore</td>\n",
       "      <td>12.969910</td>\n",
       "      <td>77.597960</td>\n",
       "      <td>55.0</td>\n",
       "    </tr>\n",
       "    <tr>\n",
       "      <th>1</th>\n",
       "      <td>Dealer</td>\n",
       "      <td>0</td>\n",
       "      <td>0</td>\n",
       "      <td>2</td>\n",
       "      <td>BHK</td>\n",
       "      <td>1275.000000</td>\n",
       "      <td>1</td>\n",
       "      <td>1</td>\n",
       "      <td>Vishweshwara Nagar,Mysore</td>\n",
       "      <td>12.274538</td>\n",
       "      <td>76.644605</td>\n",
       "      <td>51.0</td>\n",
       "    </tr>\n",
       "    <tr>\n",
       "      <th>2</th>\n",
       "      <td>Owner</td>\n",
       "      <td>0</td>\n",
       "      <td>0</td>\n",
       "      <td>2</td>\n",
       "      <td>BHK</td>\n",
       "      <td>933.159722</td>\n",
       "      <td>1</td>\n",
       "      <td>1</td>\n",
       "      <td>Jigani,Bangalore</td>\n",
       "      <td>12.778033</td>\n",
       "      <td>77.632191</td>\n",
       "      <td>43.0</td>\n",
       "    </tr>\n",
       "    <tr>\n",
       "      <th>3</th>\n",
       "      <td>Owner</td>\n",
       "      <td>0</td>\n",
       "      <td>1</td>\n",
       "      <td>2</td>\n",
       "      <td>BHK</td>\n",
       "      <td>929.921143</td>\n",
       "      <td>1</td>\n",
       "      <td>1</td>\n",
       "      <td>Sector-1 Vaishali,Ghaziabad</td>\n",
       "      <td>28.642300</td>\n",
       "      <td>77.344500</td>\n",
       "      <td>62.5</td>\n",
       "    </tr>\n",
       "    <tr>\n",
       "      <th>4</th>\n",
       "      <td>Dealer</td>\n",
       "      <td>1</td>\n",
       "      <td>0</td>\n",
       "      <td>2</td>\n",
       "      <td>BHK</td>\n",
       "      <td>999.009247</td>\n",
       "      <td>0</td>\n",
       "      <td>1</td>\n",
       "      <td>New Town,Kolkata</td>\n",
       "      <td>22.592200</td>\n",
       "      <td>88.484911</td>\n",
       "      <td>60.5</td>\n",
       "    </tr>\n",
       "  </tbody>\n",
       "</table>\n",
       "</div>"
      ],
      "text/plain": [
       "  POSTED_BY  UNDER_CONSTRUCTION  RERA  BHK_NO. BHK_OR_RK    SQUARE_FT  \\\n",
       "0     Owner                   0     0        2       BHK  1300.236407   \n",
       "1    Dealer                   0     0        2       BHK  1275.000000   \n",
       "2     Owner                   0     0        2       BHK   933.159722   \n",
       "3     Owner                   0     1        2       BHK   929.921143   \n",
       "4    Dealer                   1     0        2       BHK   999.009247   \n",
       "\n",
       "   READY_TO_MOVE  RESALE                      ADDRESS  LONGITUDE   LATITUDE  \\\n",
       "0              1       1        Ksfc Layout,Bangalore  12.969910  77.597960   \n",
       "1              1       1    Vishweshwara Nagar,Mysore  12.274538  76.644605   \n",
       "2              1       1             Jigani,Bangalore  12.778033  77.632191   \n",
       "3              1       1  Sector-1 Vaishali,Ghaziabad  28.642300  77.344500   \n",
       "4              0       1             New Town,Kolkata  22.592200  88.484911   \n",
       "\n",
       "   TARGET(PRICE_IN_LACS)  \n",
       "0                   55.0  \n",
       "1                   51.0  \n",
       "2                   43.0  \n",
       "3                   62.5  \n",
       "4                   60.5  "
      ]
     },
     "execution_count": 4,
     "metadata": {},
     "output_type": "execute_result"
    }
   ],
   "source": [
    "df.head()"
   ]
  },
  {
   "cell_type": "code",
   "execution_count": 5,
   "id": "bfc690bf",
   "metadata": {},
   "outputs": [
    {
     "data": {
      "text/plain": [
       "(29451, 12)"
      ]
     },
     "execution_count": 5,
     "metadata": {},
     "output_type": "execute_result"
    }
   ],
   "source": [
    "df.shape"
   ]
  },
  {
   "cell_type": "code",
   "execution_count": 6,
   "id": "294ff184",
   "metadata": {},
   "outputs": [
    {
     "name": "stdout",
     "output_type": "stream",
     "text": [
      "<class 'pandas.core.frame.DataFrame'>\n",
      "RangeIndex: 29451 entries, 0 to 29450\n",
      "Data columns (total 12 columns):\n",
      " #   Column                 Non-Null Count  Dtype  \n",
      "---  ------                 --------------  -----  \n",
      " 0   POSTED_BY              29451 non-null  object \n",
      " 1   UNDER_CONSTRUCTION     29451 non-null  int64  \n",
      " 2   RERA                   29451 non-null  int64  \n",
      " 3   BHK_NO.                29451 non-null  int64  \n",
      " 4   BHK_OR_RK              29451 non-null  object \n",
      " 5   SQUARE_FT              29451 non-null  float64\n",
      " 6   READY_TO_MOVE          29451 non-null  int64  \n",
      " 7   RESALE                 29451 non-null  int64  \n",
      " 8   ADDRESS                29451 non-null  object \n",
      " 9   LONGITUDE              29451 non-null  float64\n",
      " 10  LATITUDE               29451 non-null  float64\n",
      " 11  TARGET(PRICE_IN_LACS)  29451 non-null  float64\n",
      "dtypes: float64(4), int64(5), object(3)\n",
      "memory usage: 2.7+ MB\n"
     ]
    }
   ],
   "source": [
    "df.info()"
   ]
  },
  {
   "cell_type": "code",
   "execution_count": 7,
   "id": "43a9eb5d",
   "metadata": {},
   "outputs": [
    {
     "data": {
      "text/plain": [
       "POSTED_BY                0\n",
       "UNDER_CONSTRUCTION       0\n",
       "RERA                     0\n",
       "BHK_NO.                  0\n",
       "BHK_OR_RK                0\n",
       "SQUARE_FT                0\n",
       "READY_TO_MOVE            0\n",
       "RESALE                   0\n",
       "ADDRESS                  0\n",
       "LONGITUDE                0\n",
       "LATITUDE                 0\n",
       "TARGET(PRICE_IN_LACS)    0\n",
       "dtype: int64"
      ]
     },
     "execution_count": 7,
     "metadata": {},
     "output_type": "execute_result"
    }
   ],
   "source": [
    "df.isnull().sum()"
   ]
  },
  {
   "cell_type": "code",
   "execution_count": 8,
   "id": "aec103d3",
   "metadata": {},
   "outputs": [
    {
     "data": {
      "text/plain": [
       "401"
      ]
     },
     "execution_count": 8,
     "metadata": {},
     "output_type": "execute_result"
    }
   ],
   "source": [
    "df.duplicated().sum()"
   ]
  },
  {
   "cell_type": "code",
   "execution_count": 9,
   "id": "c5150d11",
   "metadata": {},
   "outputs": [],
   "source": [
    "df.drop_duplicates(inplace=True)"
   ]
  },
  {
   "cell_type": "code",
   "execution_count": 10,
   "id": "9d178a2d",
   "metadata": {},
   "outputs": [
    {
     "data": {
      "text/html": [
       "<div>\n",
       "<style scoped>\n",
       "    .dataframe tbody tr th:only-of-type {\n",
       "        vertical-align: middle;\n",
       "    }\n",
       "\n",
       "    .dataframe tbody tr th {\n",
       "        vertical-align: top;\n",
       "    }\n",
       "\n",
       "    .dataframe thead th {\n",
       "        text-align: right;\n",
       "    }\n",
       "</style>\n",
       "<table border=\"1\" class=\"dataframe\">\n",
       "  <thead>\n",
       "    <tr style=\"text-align: right;\">\n",
       "      <th></th>\n",
       "      <th>UNDER_CONSTRUCTION</th>\n",
       "      <th>RERA</th>\n",
       "      <th>BHK_NO.</th>\n",
       "      <th>SQUARE_FT</th>\n",
       "      <th>READY_TO_MOVE</th>\n",
       "      <th>RESALE</th>\n",
       "      <th>LONGITUDE</th>\n",
       "      <th>LATITUDE</th>\n",
       "      <th>TARGET(PRICE_IN_LACS)</th>\n",
       "    </tr>\n",
       "  </thead>\n",
       "  <tbody>\n",
       "    <tr>\n",
       "      <th>count</th>\n",
       "      <td>29050.000000</td>\n",
       "      <td>29050.000000</td>\n",
       "      <td>29050.000000</td>\n",
       "      <td>2.905000e+04</td>\n",
       "      <td>29050.000000</td>\n",
       "      <td>29050.000000</td>\n",
       "      <td>29050.000000</td>\n",
       "      <td>29050.000000</td>\n",
       "      <td>29050.000000</td>\n",
       "    </tr>\n",
       "    <tr>\n",
       "      <th>mean</th>\n",
       "      <td>0.178967</td>\n",
       "      <td>0.315869</td>\n",
       "      <td>2.390809</td>\n",
       "      <td>2.003171e+04</td>\n",
       "      <td>0.821033</td>\n",
       "      <td>0.930361</td>\n",
       "      <td>21.270272</td>\n",
       "      <td>76.829585</td>\n",
       "      <td>141.712677</td>\n",
       "    </tr>\n",
       "    <tr>\n",
       "      <th>std</th>\n",
       "      <td>0.383332</td>\n",
       "      <td>0.464869</td>\n",
       "      <td>0.880677</td>\n",
       "      <td>1.914411e+06</td>\n",
       "      <td>0.383332</td>\n",
       "      <td>0.254541</td>\n",
       "      <td>6.195973</td>\n",
       "      <td>10.567572</td>\n",
       "      <td>650.055763</td>\n",
       "    </tr>\n",
       "    <tr>\n",
       "      <th>min</th>\n",
       "      <td>0.000000</td>\n",
       "      <td>0.000000</td>\n",
       "      <td>1.000000</td>\n",
       "      <td>3.000000e+00</td>\n",
       "      <td>0.000000</td>\n",
       "      <td>0.000000</td>\n",
       "      <td>-37.713008</td>\n",
       "      <td>-121.761248</td>\n",
       "      <td>0.250000</td>\n",
       "    </tr>\n",
       "    <tr>\n",
       "      <th>25%</th>\n",
       "      <td>0.000000</td>\n",
       "      <td>0.000000</td>\n",
       "      <td>2.000000</td>\n",
       "      <td>9.000000e+02</td>\n",
       "      <td>1.000000</td>\n",
       "      <td>1.000000</td>\n",
       "      <td>18.452663</td>\n",
       "      <td>73.794800</td>\n",
       "      <td>38.000000</td>\n",
       "    </tr>\n",
       "    <tr>\n",
       "      <th>50%</th>\n",
       "      <td>0.000000</td>\n",
       "      <td>0.000000</td>\n",
       "      <td>2.000000</td>\n",
       "      <td>1.172742e+03</td>\n",
       "      <td>1.000000</td>\n",
       "      <td>1.000000</td>\n",
       "      <td>20.631532</td>\n",
       "      <td>77.322873</td>\n",
       "      <td>61.750000</td>\n",
       "    </tr>\n",
       "    <tr>\n",
       "      <th>75%</th>\n",
       "      <td>0.000000</td>\n",
       "      <td>1.000000</td>\n",
       "      <td>3.000000</td>\n",
       "      <td>1.550169e+03</td>\n",
       "      <td>1.000000</td>\n",
       "      <td>1.000000</td>\n",
       "      <td>26.886881</td>\n",
       "      <td>77.912934</td>\n",
       "      <td>100.000000</td>\n",
       "    </tr>\n",
       "    <tr>\n",
       "      <th>max</th>\n",
       "      <td>1.000000</td>\n",
       "      <td>1.000000</td>\n",
       "      <td>20.000000</td>\n",
       "      <td>2.545455e+08</td>\n",
       "      <td>1.000000</td>\n",
       "      <td>1.000000</td>\n",
       "      <td>59.912884</td>\n",
       "      <td>152.962676</td>\n",
       "      <td>30000.000000</td>\n",
       "    </tr>\n",
       "  </tbody>\n",
       "</table>\n",
       "</div>"
      ],
      "text/plain": [
       "       UNDER_CONSTRUCTION          RERA       BHK_NO.     SQUARE_FT  \\\n",
       "count        29050.000000  29050.000000  29050.000000  2.905000e+04   \n",
       "mean             0.178967      0.315869      2.390809  2.003171e+04   \n",
       "std              0.383332      0.464869      0.880677  1.914411e+06   \n",
       "min              0.000000      0.000000      1.000000  3.000000e+00   \n",
       "25%              0.000000      0.000000      2.000000  9.000000e+02   \n",
       "50%              0.000000      0.000000      2.000000  1.172742e+03   \n",
       "75%              0.000000      1.000000      3.000000  1.550169e+03   \n",
       "max              1.000000      1.000000     20.000000  2.545455e+08   \n",
       "\n",
       "       READY_TO_MOVE        RESALE     LONGITUDE      LATITUDE  \\\n",
       "count   29050.000000  29050.000000  29050.000000  29050.000000   \n",
       "mean        0.821033      0.930361     21.270272     76.829585   \n",
       "std         0.383332      0.254541      6.195973     10.567572   \n",
       "min         0.000000      0.000000    -37.713008   -121.761248   \n",
       "25%         1.000000      1.000000     18.452663     73.794800   \n",
       "50%         1.000000      1.000000     20.631532     77.322873   \n",
       "75%         1.000000      1.000000     26.886881     77.912934   \n",
       "max         1.000000      1.000000     59.912884    152.962676   \n",
       "\n",
       "       TARGET(PRICE_IN_LACS)  \n",
       "count           29050.000000  \n",
       "mean              141.712677  \n",
       "std               650.055763  \n",
       "min                 0.250000  \n",
       "25%                38.000000  \n",
       "50%                61.750000  \n",
       "75%               100.000000  \n",
       "max             30000.000000  "
      ]
     },
     "execution_count": 10,
     "metadata": {},
     "output_type": "execute_result"
    }
   ],
   "source": [
    "df.describe()"
   ]
  },
  {
   "cell_type": "code",
   "execution_count": 11,
   "id": "b5875f05",
   "metadata": {},
   "outputs": [
    {
     "data": {
      "text/html": [
       "<div>\n",
       "<style scoped>\n",
       "    .dataframe tbody tr th:only-of-type {\n",
       "        vertical-align: middle;\n",
       "    }\n",
       "\n",
       "    .dataframe tbody tr th {\n",
       "        vertical-align: top;\n",
       "    }\n",
       "\n",
       "    .dataframe thead th {\n",
       "        text-align: right;\n",
       "    }\n",
       "</style>\n",
       "<table border=\"1\" class=\"dataframe\">\n",
       "  <thead>\n",
       "    <tr style=\"text-align: right;\">\n",
       "      <th></th>\n",
       "      <th>POSTED_BY</th>\n",
       "      <th>UNDER_CONSTRUCTION</th>\n",
       "      <th>RERA</th>\n",
       "      <th>BHK_NO.</th>\n",
       "      <th>BHK_OR_RK</th>\n",
       "      <th>SQUARE_FT</th>\n",
       "      <th>READY_TO_MOVE</th>\n",
       "      <th>RESALE</th>\n",
       "      <th>ADDRESS</th>\n",
       "      <th>LONGITUDE</th>\n",
       "      <th>LATITUDE</th>\n",
       "      <th>TARGET(PRICE_IN_LACS)</th>\n",
       "    </tr>\n",
       "  </thead>\n",
       "  <tbody>\n",
       "    <tr>\n",
       "      <th>0</th>\n",
       "      <td>Owner</td>\n",
       "      <td>0</td>\n",
       "      <td>0</td>\n",
       "      <td>2</td>\n",
       "      <td>BHK</td>\n",
       "      <td>1300.236407</td>\n",
       "      <td>1</td>\n",
       "      <td>1</td>\n",
       "      <td>Ksfc Layout,Bangalore</td>\n",
       "      <td>12.969910</td>\n",
       "      <td>77.597960</td>\n",
       "      <td>55.0</td>\n",
       "    </tr>\n",
       "    <tr>\n",
       "      <th>1</th>\n",
       "      <td>Dealer</td>\n",
       "      <td>0</td>\n",
       "      <td>0</td>\n",
       "      <td>2</td>\n",
       "      <td>BHK</td>\n",
       "      <td>1275.000000</td>\n",
       "      <td>1</td>\n",
       "      <td>1</td>\n",
       "      <td>Vishweshwara Nagar,Mysore</td>\n",
       "      <td>12.274538</td>\n",
       "      <td>76.644605</td>\n",
       "      <td>51.0</td>\n",
       "    </tr>\n",
       "  </tbody>\n",
       "</table>\n",
       "</div>"
      ],
      "text/plain": [
       "  POSTED_BY  UNDER_CONSTRUCTION  RERA  BHK_NO. BHK_OR_RK    SQUARE_FT  \\\n",
       "0     Owner                   0     0        2       BHK  1300.236407   \n",
       "1    Dealer                   0     0        2       BHK  1275.000000   \n",
       "\n",
       "   READY_TO_MOVE  RESALE                    ADDRESS  LONGITUDE   LATITUDE  \\\n",
       "0              1       1      Ksfc Layout,Bangalore  12.969910  77.597960   \n",
       "1              1       1  Vishweshwara Nagar,Mysore  12.274538  76.644605   \n",
       "\n",
       "   TARGET(PRICE_IN_LACS)  \n",
       "0                   55.0  \n",
       "1                   51.0  "
      ]
     },
     "execution_count": 11,
     "metadata": {},
     "output_type": "execute_result"
    }
   ],
   "source": [
    "df.head(2)"
   ]
  },
  {
   "cell_type": "code",
   "execution_count": 12,
   "id": "1f826a4e",
   "metadata": {},
   "outputs": [
    {
     "data": {
      "text/plain": [
       "['POSTED_BY', 'BHK_OR_RK', 'ADDRESS']"
      ]
     },
     "execution_count": 12,
     "metadata": {},
     "output_type": "execute_result"
    }
   ],
   "source": [
    "cat_col = []            # categorical features\n",
    "\n",
    "for i in df.columns:\n",
    "    if df.dtypes[i] == 'object':\n",
    "        cat_col.append(i)\n",
    "cat_col"
   ]
  },
  {
   "cell_type": "code",
   "execution_count": 13,
   "id": "46d48f3a",
   "metadata": {},
   "outputs": [
    {
     "name": "stdout",
     "output_type": "stream",
     "text": [
      "POSTED_BY\n",
      "Dealer     17961\n",
      "Owner      10470\n",
      "Builder      619\n",
      "Name: POSTED_BY, dtype: int64\n",
      "----------------------------------------------\n",
      "BHK_OR_RK\n",
      "BHK    29026\n",
      "RK        24\n",
      "Name: BHK_OR_RK, dtype: int64\n",
      "----------------------------------------------\n",
      "ADDRESS\n",
      "Zirakpur,Chandigarh                474\n",
      "Whitefield,Bangalore               222\n",
      "Raj Nagar Extension,Ghaziabad      212\n",
      "Sector-137 Noida,Noida             136\n",
      "New Town,Kolkata                   129\n",
      "                                  ... \n",
      "Koregaon Mul,Pune                    1\n",
      "Film City Road,Maharashtra           1\n",
      "Sector-44A Seawoods,Mumbai           1\n",
      "Bhandup Central Mumbai,Lalitpur      1\n",
      "Pursottam Nagar,Surat                1\n",
      "Name: ADDRESS, Length: 6899, dtype: int64\n",
      "----------------------------------------------\n"
     ]
    }
   ],
   "source": [
    "for col in cat_col:\n",
    "    print(col)\n",
    "    print(df[col].value_counts())\n",
    "    print('----------------------------------------------')"
   ]
  },
  {
   "cell_type": "code",
   "execution_count": 14,
   "id": "dbce6bf8",
   "metadata": {},
   "outputs": [
    {
     "data": {
      "text/plain": [
       "<AxesSubplot:xlabel='TARGET(PRICE_IN_LACS)', ylabel='Density'>"
      ]
     },
     "execution_count": 14,
     "metadata": {},
     "output_type": "execute_result"
    },
    {
     "data": {
      "image/png": "[encoded data removed]",
      "text/plain": [
       "<Figure size 432x288 with 1 Axes>"
      ]
     },
     "metadata": {},
     "output_type": "display_data"
    }
   ],
   "source": [
    "sns.distplot((df['TARGET(PRICE_IN_LACS)']),hist=False)"
   ]
  },
  {
   "cell_type": "code",
   "execution_count": 15,
   "id": "eb96fcc4",
   "metadata": {},
   "outputs": [
    {
     "data": {
      "text/plain": [
       "<AxesSubplot:xlabel='BHK_NO.'>"
      ]
     },
     "execution_count": 15,
     "metadata": {},
     "output_type": "execute_result"
    },
    {
     "data": {
      "image/png": "[encoded data removed]",
      "text/plain": [
       "<Figure size 864x288 with 2 Axes>"
      ]
     },
     "metadata": {},
     "output_type": "display_data"
    }
   ],
   "source": [
    "plt.figure(figsize=(12,4))\n",
    "plt.subplot(1,2,1)\n",
    "sns.distplot(df['BHK_NO.'], color='r')\n",
    "\n",
    "plt.subplot(1,2,2)\n",
    "sns.boxplot(df['BHK_NO.'])"
   ]
  },
  {
   "cell_type": "code",
   "execution_count": 16,
   "id": "e8e7d75d",
   "metadata": {},
   "outputs": [
    {
     "data": {
      "text/plain": [
       "1.0"
      ]
     },
     "execution_count": 16,
     "metadata": {},
     "output_type": "execute_result"
    }
   ],
   "source": [
    "per75 = df['BHK_NO.'].quantile(0.75)  # iqr method for outliers\n",
    "per25 = df['BHK_NO.'].quantile(0.25)\n",
    "\n",
    "iqr = per75 - per25\n",
    "iqr"
   ]
  },
  {
   "cell_type": "code",
   "execution_count": 17,
   "id": "7b212f56",
   "metadata": {},
   "outputs": [
    {
     "name": "stdout",
     "output_type": "stream",
     "text": [
      "upper_l 4.5\n",
      "lower_l 0.5\n"
     ]
    }
   ],
   "source": [
    "upper_limit = per75 + 1.5 * iqr\n",
    "lower_limit = per25 - 1.5 * iqr\n",
    "\n",
    "print('upper_l', upper_limit)\n",
    "print('lower_l', lower_limit)"
   ]
  },
  {
   "cell_type": "code",
   "execution_count": 18,
   "id": "43494283",
   "metadata": {},
   "outputs": [
    {
     "data": {
      "text/html": [
       "<div>\n",
       "<style scoped>\n",
       "    .dataframe tbody tr th:only-of-type {\n",
       "        vertical-align: middle;\n",
       "    }\n",
       "\n",
       "    .dataframe tbody tr th {\n",
       "        vertical-align: top;\n",
       "    }\n",
       "\n",
       "    .dataframe thead th {\n",
       "        text-align: right;\n",
       "    }\n",
       "</style>\n",
       "<table border=\"1\" class=\"dataframe\">\n",
       "  <thead>\n",
       "    <tr style=\"text-align: right;\">\n",
       "      <th></th>\n",
       "      <th>POSTED_BY</th>\n",
       "      <th>UNDER_CONSTRUCTION</th>\n",
       "      <th>RERA</th>\n",
       "      <th>BHK_NO.</th>\n",
       "      <th>BHK_OR_RK</th>\n",
       "      <th>SQUARE_FT</th>\n",
       "      <th>READY_TO_MOVE</th>\n",
       "      <th>RESALE</th>\n",
       "      <th>ADDRESS</th>\n",
       "      <th>LONGITUDE</th>\n",
       "      <th>LATITUDE</th>\n",
       "      <th>TARGET(PRICE_IN_LACS)</th>\n",
       "    </tr>\n",
       "  </thead>\n",
       "  <tbody>\n",
       "    <tr>\n",
       "      <th>361</th>\n",
       "      <td>Dealer</td>\n",
       "      <td>1</td>\n",
       "      <td>1</td>\n",
       "      <td>6</td>\n",
       "      <td>BHK</td>\n",
       "      <td>10050.251260</td>\n",
       "      <td>0</td>\n",
       "      <td>1</td>\n",
       "      <td>Sector-124 Noida,Noida</td>\n",
       "      <td>28.548382</td>\n",
       "      <td>77.327819</td>\n",
       "      <td>1200.0</td>\n",
       "    </tr>\n",
       "    <tr>\n",
       "      <th>681</th>\n",
       "      <td>Owner</td>\n",
       "      <td>0</td>\n",
       "      <td>0</td>\n",
       "      <td>6</td>\n",
       "      <td>BHK</td>\n",
       "      <td>3200.189641</td>\n",
       "      <td>1</td>\n",
       "      <td>1</td>\n",
       "      <td>Siruseri Sipcot IT-Park,Chennai</td>\n",
       "      <td>12.833224</td>\n",
       "      <td>80.210726</td>\n",
       "      <td>270.0</td>\n",
       "    </tr>\n",
       "    <tr>\n",
       "      <th>1093</th>\n",
       "      <td>Dealer</td>\n",
       "      <td>0</td>\n",
       "      <td>0</td>\n",
       "      <td>6</td>\n",
       "      <td>BHK</td>\n",
       "      <td>5800.464037</td>\n",
       "      <td>1</td>\n",
       "      <td>1</td>\n",
       "      <td>Rambagh,Jaipur</td>\n",
       "      <td>26.901661</td>\n",
       "      <td>75.815245</td>\n",
       "      <td>500.0</td>\n",
       "    </tr>\n",
       "    <tr>\n",
       "      <th>1289</th>\n",
       "      <td>Dealer</td>\n",
       "      <td>0</td>\n",
       "      <td>0</td>\n",
       "      <td>6</td>\n",
       "      <td>BHK</td>\n",
       "      <td>11263.157890</td>\n",
       "      <td>1</td>\n",
       "      <td>0</td>\n",
       "      <td>Sathya Sai Layout,Bangalore</td>\n",
       "      <td>12.929162</td>\n",
       "      <td>77.629041</td>\n",
       "      <td>1070.0</td>\n",
       "    </tr>\n",
       "    <tr>\n",
       "      <th>1300</th>\n",
       "      <td>Dealer</td>\n",
       "      <td>0</td>\n",
       "      <td>0</td>\n",
       "      <td>6</td>\n",
       "      <td>BHK</td>\n",
       "      <td>8500.148753</td>\n",
       "      <td>1</td>\n",
       "      <td>1</td>\n",
       "      <td>Andheri (West),Lalitpur</td>\n",
       "      <td>19.139348</td>\n",
       "      <td>72.820458</td>\n",
       "      <td>2000.0</td>\n",
       "    </tr>\n",
       "    <tr>\n",
       "      <th>...</th>\n",
       "      <td>...</td>\n",
       "      <td>...</td>\n",
       "      <td>...</td>\n",
       "      <td>...</td>\n",
       "      <td>...</td>\n",
       "      <td>...</td>\n",
       "      <td>...</td>\n",
       "      <td>...</td>\n",
       "      <td>...</td>\n",
       "      <td>...</td>\n",
       "      <td>...</td>\n",
       "      <td>...</td>\n",
       "    </tr>\n",
       "    <tr>\n",
       "      <th>27721</th>\n",
       "      <td>Dealer</td>\n",
       "      <td>0</td>\n",
       "      <td>0</td>\n",
       "      <td>8</td>\n",
       "      <td>BHK</td>\n",
       "      <td>9594.298246</td>\n",
       "      <td>1</td>\n",
       "      <td>1</td>\n",
       "      <td>Bhosale Nagar,Pune</td>\n",
       "      <td>18.543533</td>\n",
       "      <td>73.836246</td>\n",
       "      <td>1400.0</td>\n",
       "    </tr>\n",
       "    <tr>\n",
       "      <th>27898</th>\n",
       "      <td>Dealer</td>\n",
       "      <td>0</td>\n",
       "      <td>0</td>\n",
       "      <td>6</td>\n",
       "      <td>BHK</td>\n",
       "      <td>3600.065456</td>\n",
       "      <td>1</td>\n",
       "      <td>1</td>\n",
       "      <td>Vile Parle (West),Mumbai</td>\n",
       "      <td>19.102075</td>\n",
       "      <td>72.841149</td>\n",
       "      <td>1100.0</td>\n",
       "    </tr>\n",
       "    <tr>\n",
       "      <th>28233</th>\n",
       "      <td>Dealer</td>\n",
       "      <td>0</td>\n",
       "      <td>0</td>\n",
       "      <td>7</td>\n",
       "      <td>BHK</td>\n",
       "      <td>5900.053100</td>\n",
       "      <td>1</td>\n",
       "      <td>1</td>\n",
       "      <td>Koramangala,Bangalore</td>\n",
       "      <td>12.925900</td>\n",
       "      <td>77.622900</td>\n",
       "      <td>1000.0</td>\n",
       "    </tr>\n",
       "    <tr>\n",
       "      <th>29004</th>\n",
       "      <td>Dealer</td>\n",
       "      <td>0</td>\n",
       "      <td>0</td>\n",
       "      <td>15</td>\n",
       "      <td>BHK</td>\n",
       "      <td>5894.736842</td>\n",
       "      <td>1</td>\n",
       "      <td>1</td>\n",
       "      <td>Kalikapur,Kolkata</td>\n",
       "      <td>22.127030</td>\n",
       "      <td>88.518729</td>\n",
       "      <td>280.0</td>\n",
       "    </tr>\n",
       "    <tr>\n",
       "      <th>29187</th>\n",
       "      <td>Owner</td>\n",
       "      <td>0</td>\n",
       "      <td>0</td>\n",
       "      <td>20</td>\n",
       "      <td>BHK</td>\n",
       "      <td>16860.563140</td>\n",
       "      <td>1</td>\n",
       "      <td>1</td>\n",
       "      <td>Seethammadhara,Visakhapatnam</td>\n",
       "      <td>17.741878</td>\n",
       "      <td>83.308875</td>\n",
       "      <td>2000.0</td>\n",
       "    </tr>\n",
       "  </tbody>\n",
       "</table>\n",
       "<p>94 rows × 12 columns</p>\n",
       "</div>"
      ],
      "text/plain": [
       "      POSTED_BY  UNDER_CONSTRUCTION  RERA  BHK_NO. BHK_OR_RK     SQUARE_FT  \\\n",
       "361      Dealer                   1     1        6       BHK  10050.251260   \n",
       "681       Owner                   0     0        6       BHK   3200.189641   \n",
       "1093     Dealer                   0     0        6       BHK   5800.464037   \n",
       "1289     Dealer                   0     0        6       BHK  11263.157890   \n",
       "1300     Dealer                   0     0        6       BHK   8500.148753   \n",
       "...         ...                 ...   ...      ...       ...           ...   \n",
       "27721    Dealer                   0     0        8       BHK   9594.298246   \n",
       "27898    Dealer                   0     0        6       BHK   3600.065456   \n",
       "28233    Dealer                   0     0        7       BHK   5900.053100   \n",
       "29004    Dealer                   0     0       15       BHK   5894.736842   \n",
       "29187     Owner                   0     0       20       BHK  16860.563140   \n",
       "\n",
       "       READY_TO_MOVE  RESALE                          ADDRESS  LONGITUDE  \\\n",
       "361                0       1           Sector-124 Noida,Noida  28.548382   \n",
       "681                1       1  Siruseri Sipcot IT-Park,Chennai  12.833224   \n",
       "1093               1       1                   Rambagh,Jaipur  26.901661   \n",
       "1289               1       0      Sathya Sai Layout,Bangalore  12.929162   \n",
       "1300               1       1          Andheri (West),Lalitpur  19.139348   \n",
       "...              ...     ...                              ...        ...   \n",
       "27721              1       1               Bhosale Nagar,Pune  18.543533   \n",
       "27898              1       1         Vile Parle (West),Mumbai  19.102075   \n",
       "28233              1       1            Koramangala,Bangalore  12.925900   \n",
       "29004              1       1                Kalikapur,Kolkata  22.127030   \n",
       "29187              1       1     Seethammadhara,Visakhapatnam  17.741878   \n",
       "\n",
       "        LATITUDE  TARGET(PRICE_IN_LACS)  \n",
       "361    77.327819                 1200.0  \n",
       "681    80.210726                  270.0  \n",
       "1093   75.815245                  500.0  \n",
       "1289   77.629041                 1070.0  \n",
       "1300   72.820458                 2000.0  \n",
       "...          ...                    ...  \n",
       "27721  73.836246                 1400.0  \n",
       "27898  72.841149                 1100.0  \n",
       "28233  77.622900                 1000.0  \n",
       "29004  88.518729                  280.0  \n",
       "29187  83.308875                 2000.0  \n",
       "\n",
       "[94 rows x 12 columns]"
      ]
     },
     "execution_count": 18,
     "metadata": {},
     "output_type": "execute_result"
    }
   ],
   "source": [
    "df[(df['BHK_NO.'] > 5) | (df['BHK_NO.'] < lower_limit)] # outliers"
   ]
  },
  {
   "cell_type": "code",
   "execution_count": 19,
   "id": "0f3a1bc0",
   "metadata": {},
   "outputs": [],
   "source": [
    "df = df[(df['BHK_NO.'] < 5) & (df['BHK_NO.'] > lower_limit)]"
   ]
  },
  {
   "cell_type": "code",
   "execution_count": 20,
   "id": "b39476f3",
   "metadata": {},
   "outputs": [
    {
     "data": {
      "text/plain": [
       "<AxesSubplot:xlabel='BHK_NO.'>"
      ]
     },
     "execution_count": 20,
     "metadata": {},
     "output_type": "execute_result"
    },
    {
     "data": {
      "image/png": "[encoded data removed]",
      "text/plain": [
       "<Figure size 864x288 with 2 Axes>"
      ]
     },
     "metadata": {},
     "output_type": "display_data"
    }
   ],
   "source": [
    "plt.figure(figsize=(12,4))\n",
    "plt.subplot(1,2,1)\n",
    "sns.distplot(df['BHK_NO.'], color='r')\n",
    "\n",
    "plt.subplot(1,2,2)\n",
    "sns.boxplot(df['BHK_NO.'])"
   ]
  },
  {
   "cell_type": "code",
   "execution_count": 21,
   "id": "2695e79f",
   "metadata": {},
   "outputs": [],
   "source": [
    "df['SQUARE_FT'] = df['SQUARE_FT'].astype('int64')\n",
    "df['LATITUDE'] = df['LATITUDE'].astype('int64')\n",
    "df['LONGITUDE'] = df['LONGITUDE'].astype('int64')\n",
    "df['TARGET(PRICE_IN_LACS)'] = df['TARGET(PRICE_IN_LACS)'].astype('int64')"
   ]
  },
  {
   "cell_type": "code",
   "execution_count": 22,
   "id": "06f6fa69",
   "metadata": {},
   "outputs": [
    {
     "data": {
      "text/html": [
       "<div>\n",
       "<style scoped>\n",
       "    .dataframe tbody tr th:only-of-type {\n",
       "        vertical-align: middle;\n",
       "    }\n",
       "\n",
       "    .dataframe tbody tr th {\n",
       "        vertical-align: top;\n",
       "    }\n",
       "\n",
       "    .dataframe thead th {\n",
       "        text-align: right;\n",
       "    }\n",
       "</style>\n",
       "<table border=\"1\" class=\"dataframe\">\n",
       "  <thead>\n",
       "    <tr style=\"text-align: right;\">\n",
       "      <th></th>\n",
       "      <th>POSTED_BY</th>\n",
       "      <th>UNDER_CONSTRUCTION</th>\n",
       "      <th>RERA</th>\n",
       "      <th>BHK_NO.</th>\n",
       "      <th>BHK_OR_RK</th>\n",
       "      <th>SQUARE_FT</th>\n",
       "      <th>READY_TO_MOVE</th>\n",
       "      <th>RESALE</th>\n",
       "      <th>ADDRESS</th>\n",
       "      <th>LONGITUDE</th>\n",
       "      <th>LATITUDE</th>\n",
       "      <th>TARGET(PRICE_IN_LACS)</th>\n",
       "    </tr>\n",
       "  </thead>\n",
       "  <tbody>\n",
       "    <tr>\n",
       "      <th>0</th>\n",
       "      <td>Owner</td>\n",
       "      <td>0</td>\n",
       "      <td>0</td>\n",
       "      <td>2</td>\n",
       "      <td>BHK</td>\n",
       "      <td>1300</td>\n",
       "      <td>1</td>\n",
       "      <td>1</td>\n",
       "      <td>Ksfc Layout,Bangalore</td>\n",
       "      <td>12</td>\n",
       "      <td>77</td>\n",
       "      <td>55</td>\n",
       "    </tr>\n",
       "    <tr>\n",
       "      <th>1</th>\n",
       "      <td>Dealer</td>\n",
       "      <td>0</td>\n",
       "      <td>0</td>\n",
       "      <td>2</td>\n",
       "      <td>BHK</td>\n",
       "      <td>1275</td>\n",
       "      <td>1</td>\n",
       "      <td>1</td>\n",
       "      <td>Vishweshwara Nagar,Mysore</td>\n",
       "      <td>12</td>\n",
       "      <td>76</td>\n",
       "      <td>51</td>\n",
       "    </tr>\n",
       "  </tbody>\n",
       "</table>\n",
       "</div>"
      ],
      "text/plain": [
       "  POSTED_BY  UNDER_CONSTRUCTION  RERA  BHK_NO. BHK_OR_RK  SQUARE_FT  \\\n",
       "0     Owner                   0     0        2       BHK       1300   \n",
       "1    Dealer                   0     0        2       BHK       1275   \n",
       "\n",
       "   READY_TO_MOVE  RESALE                    ADDRESS  LONGITUDE  LATITUDE  \\\n",
       "0              1       1      Ksfc Layout,Bangalore         12        77   \n",
       "1              1       1  Vishweshwara Nagar,Mysore         12        76   \n",
       "\n",
       "   TARGET(PRICE_IN_LACS)  \n",
       "0                     55  \n",
       "1                     51  "
      ]
     },
     "execution_count": 22,
     "metadata": {},
     "output_type": "execute_result"
    }
   ],
   "source": [
    "df.head(2)"
   ]
  },
  {
   "cell_type": "code",
   "execution_count": 23,
   "id": "a7042d91",
   "metadata": {},
   "outputs": [
    {
     "data": {
      "text/plain": [
       "UNDER_CONSTRUCTION       0.058419\n",
       "RERA                     0.071001\n",
       "BHK_NO.                  0.095177\n",
       "SQUARE_FT                0.416718\n",
       "READY_TO_MOVE           -0.058419\n",
       "RESALE                  -0.208538\n",
       "LONGITUDE               -0.027877\n",
       "LATITUDE                -0.017818\n",
       "TARGET(PRICE_IN_LACS)    1.000000\n",
       "Name: TARGET(PRICE_IN_LACS), dtype: float64"
      ]
     },
     "execution_count": 23,
     "metadata": {},
     "output_type": "execute_result"
    }
   ],
   "source": [
    "df.corr()['TARGET(PRICE_IN_LACS)']"
   ]
  },
  {
   "cell_type": "code",
   "execution_count": 24,
   "id": "43932cfe",
   "metadata": {},
   "outputs": [
    {
     "data": {
      "text/plain": [
       "<AxesSubplot:>"
      ]
     },
     "execution_count": 24,
     "metadata": {},
     "output_type": "execute_result"
    },
    {
     "data": {
      "image/png": "[encoded data removed]",
      "text/plain": [
       "<Figure size 720x360 with 2 Axes>"
      ]
     },
     "metadata": {},
     "output_type": "display_data"
    }
   ],
   "source": [
    "plt.figure(figsize=(10,5))        # 'UNDER_CONSTRUCTION' and 'READY_TO_MOVE' has high -ve correlation. they are doing same work\n",
    "sns.heatmap(df.corr(),annot=True) # we can remove the 1 feature"
   ]
  },
  {
   "cell_type": "code",
   "execution_count": 25,
   "id": "be1b5398",
   "metadata": {},
   "outputs": [],
   "source": [
    "df.drop('READY_TO_MOVE', axis=1, inplace=True)"
   ]
  },
  {
   "cell_type": "code",
   "execution_count": 26,
   "id": "8b4e6886",
   "metadata": {},
   "outputs": [],
   "source": [
    "df['POSTED_BY'].replace({'Builder':0, 'Owner':1, 'Dealer':2},inplace=True)\n",
    "df['BHK_OR_RK'].replace({'RK':0, 'BHK':1},inplace=True)"
   ]
  },
  {
   "cell_type": "code",
   "execution_count": 27,
   "id": "619a7c24",
   "metadata": {},
   "outputs": [],
   "source": [
    "df['LOCATION'] = df['ADDRESS'].apply(lambda x: x.split(',')[-1])"
   ]
  },
  {
   "cell_type": "code",
   "execution_count": 28,
   "id": "2bdae319",
   "metadata": {},
   "outputs": [
    {
     "data": {
      "text/html": [
       "<div>\n",
       "<style scoped>\n",
       "    .dataframe tbody tr th:only-of-type {\n",
       "        vertical-align: middle;\n",
       "    }\n",
       "\n",
       "    .dataframe tbody tr th {\n",
       "        vertical-align: top;\n",
       "    }\n",
       "\n",
       "    .dataframe thead th {\n",
       "        text-align: right;\n",
       "    }\n",
       "</style>\n",
       "<table border=\"1\" class=\"dataframe\">\n",
       "  <thead>\n",
       "    <tr style=\"text-align: right;\">\n",
       "      <th></th>\n",
       "      <th>POSTED_BY</th>\n",
       "      <th>UNDER_CONSTRUCTION</th>\n",
       "      <th>RERA</th>\n",
       "      <th>BHK_NO.</th>\n",
       "      <th>BHK_OR_RK</th>\n",
       "      <th>SQUARE_FT</th>\n",
       "      <th>RESALE</th>\n",
       "      <th>ADDRESS</th>\n",
       "      <th>LONGITUDE</th>\n",
       "      <th>LATITUDE</th>\n",
       "      <th>TARGET(PRICE_IN_LACS)</th>\n",
       "      <th>LOCATION</th>\n",
       "    </tr>\n",
       "  </thead>\n",
       "  <tbody>\n",
       "    <tr>\n",
       "      <th>0</th>\n",
       "      <td>1</td>\n",
       "      <td>0</td>\n",
       "      <td>0</td>\n",
       "      <td>2</td>\n",
       "      <td>1</td>\n",
       "      <td>1300</td>\n",
       "      <td>1</td>\n",
       "      <td>Ksfc Layout,Bangalore</td>\n",
       "      <td>12</td>\n",
       "      <td>77</td>\n",
       "      <td>55</td>\n",
       "      <td>Bangalore</td>\n",
       "    </tr>\n",
       "    <tr>\n",
       "      <th>1</th>\n",
       "      <td>2</td>\n",
       "      <td>0</td>\n",
       "      <td>0</td>\n",
       "      <td>2</td>\n",
       "      <td>1</td>\n",
       "      <td>1275</td>\n",
       "      <td>1</td>\n",
       "      <td>Vishweshwara Nagar,Mysore</td>\n",
       "      <td>12</td>\n",
       "      <td>76</td>\n",
       "      <td>51</td>\n",
       "      <td>Mysore</td>\n",
       "    </tr>\n",
       "    <tr>\n",
       "      <th>2</th>\n",
       "      <td>1</td>\n",
       "      <td>0</td>\n",
       "      <td>0</td>\n",
       "      <td>2</td>\n",
       "      <td>1</td>\n",
       "      <td>933</td>\n",
       "      <td>1</td>\n",
       "      <td>Jigani,Bangalore</td>\n",
       "      <td>12</td>\n",
       "      <td>77</td>\n",
       "      <td>43</td>\n",
       "      <td>Bangalore</td>\n",
       "    </tr>\n",
       "    <tr>\n",
       "      <th>3</th>\n",
       "      <td>1</td>\n",
       "      <td>0</td>\n",
       "      <td>1</td>\n",
       "      <td>2</td>\n",
       "      <td>1</td>\n",
       "      <td>929</td>\n",
       "      <td>1</td>\n",
       "      <td>Sector-1 Vaishali,Ghaziabad</td>\n",
       "      <td>28</td>\n",
       "      <td>77</td>\n",
       "      <td>62</td>\n",
       "      <td>Ghaziabad</td>\n",
       "    </tr>\n",
       "    <tr>\n",
       "      <th>4</th>\n",
       "      <td>2</td>\n",
       "      <td>1</td>\n",
       "      <td>0</td>\n",
       "      <td>2</td>\n",
       "      <td>1</td>\n",
       "      <td>999</td>\n",
       "      <td>1</td>\n",
       "      <td>New Town,Kolkata</td>\n",
       "      <td>22</td>\n",
       "      <td>88</td>\n",
       "      <td>60</td>\n",
       "      <td>Kolkata</td>\n",
       "    </tr>\n",
       "  </tbody>\n",
       "</table>\n",
       "</div>"
      ],
      "text/plain": [
       "   POSTED_BY  UNDER_CONSTRUCTION  RERA  BHK_NO.  BHK_OR_RK  SQUARE_FT  RESALE  \\\n",
       "0          1                   0     0        2          1       1300       1   \n",
       "1          2                   0     0        2          1       1275       1   \n",
       "2          1                   0     0        2          1        933       1   \n",
       "3          1                   0     1        2          1        929       1   \n",
       "4          2                   1     0        2          1        999       1   \n",
       "\n",
       "                       ADDRESS  LONGITUDE  LATITUDE  TARGET(PRICE_IN_LACS)  \\\n",
       "0        Ksfc Layout,Bangalore         12        77                     55   \n",
       "1    Vishweshwara Nagar,Mysore         12        76                     51   \n",
       "2             Jigani,Bangalore         12        77                     43   \n",
       "3  Sector-1 Vaishali,Ghaziabad         28        77                     62   \n",
       "4             New Town,Kolkata         22        88                     60   \n",
       "\n",
       "    LOCATION  \n",
       "0  Bangalore  \n",
       "1     Mysore  \n",
       "2  Bangalore  \n",
       "3  Ghaziabad  \n",
       "4    Kolkata  "
      ]
     },
     "execution_count": 28,
     "metadata": {},
     "output_type": "execute_result"
    }
   ],
   "source": [
    "df.head()"
   ]
  },
  {
   "cell_type": "code",
   "execution_count": 29,
   "id": "7ebf394b",
   "metadata": {},
   "outputs": [],
   "source": [
    "df['PRICE'] = df['TARGET(PRICE_IN_LACS)'] * 100000 "
   ]
  },
  {
   "cell_type": "code",
   "execution_count": 30,
   "id": "7b2be817",
   "metadata": {},
   "outputs": [],
   "source": [
    "df.drop(columns=['ADDRESS','TARGET(PRICE_IN_LACS)'],axis=1, inplace=True)"
   ]
  },
  {
   "cell_type": "code",
   "execution_count": 31,
   "id": "0b35f0c2",
   "metadata": {},
   "outputs": [
    {
     "data": {
      "text/plain": [
       "POSTED_BY             0.067184\n",
       "UNDER_CONSTRUCTION    0.058419\n",
       "RERA                  0.071001\n",
       "BHK_NO.               0.095177\n",
       "BHK_OR_RK             0.004302\n",
       "SQUARE_FT             0.416718\n",
       "RESALE               -0.208538\n",
       "LONGITUDE            -0.027877\n",
       "LATITUDE             -0.017818\n",
       "PRICE                 1.000000\n",
       "Name: PRICE, dtype: float64"
      ]
     },
     "execution_count": 31,
     "metadata": {},
     "output_type": "execute_result"
    }
   ],
   "source": [
    "df.corr()['PRICE']"
   ]
  },
  {
   "cell_type": "code",
   "execution_count": 32,
   "id": "667f8f5f",
   "metadata": {},
   "outputs": [],
   "source": [
    "df.drop(columns=['RERA','LONGITUDE','LATITUDE'],axis=1, inplace=True)"
   ]
  },
  {
   "cell_type": "code",
   "execution_count": 33,
   "id": "fcc9e227",
   "metadata": {},
   "outputs": [
    {
     "data": {
      "text/html": [
       "<div>\n",
       "<style scoped>\n",
       "    .dataframe tbody tr th:only-of-type {\n",
       "        vertical-align: middle;\n",
       "    }\n",
       "\n",
       "    .dataframe tbody tr th {\n",
       "        vertical-align: top;\n",
       "    }\n",
       "\n",
       "    .dataframe thead th {\n",
       "        text-align: right;\n",
       "    }\n",
       "</style>\n",
       "<table border=\"1\" class=\"dataframe\">\n",
       "  <thead>\n",
       "    <tr style=\"text-align: right;\">\n",
       "      <th></th>\n",
       "      <th>POSTED_BY</th>\n",
       "      <th>UNDER_CONSTRUCTION</th>\n",
       "      <th>BHK_NO.</th>\n",
       "      <th>BHK_OR_RK</th>\n",
       "      <th>SQUARE_FT</th>\n",
       "      <th>RESALE</th>\n",
       "      <th>LOCATION</th>\n",
       "      <th>PRICE</th>\n",
       "    </tr>\n",
       "  </thead>\n",
       "  <tbody>\n",
       "    <tr>\n",
       "      <th>0</th>\n",
       "      <td>1</td>\n",
       "      <td>0</td>\n",
       "      <td>2</td>\n",
       "      <td>1</td>\n",
       "      <td>1300</td>\n",
       "      <td>1</td>\n",
       "      <td>Bangalore</td>\n",
       "      <td>5500000</td>\n",
       "    </tr>\n",
       "    <tr>\n",
       "      <th>1</th>\n",
       "      <td>2</td>\n",
       "      <td>0</td>\n",
       "      <td>2</td>\n",
       "      <td>1</td>\n",
       "      <td>1275</td>\n",
       "      <td>1</td>\n",
       "      <td>Mysore</td>\n",
       "      <td>5100000</td>\n",
       "    </tr>\n",
       "    <tr>\n",
       "      <th>2</th>\n",
       "      <td>1</td>\n",
       "      <td>0</td>\n",
       "      <td>2</td>\n",
       "      <td>1</td>\n",
       "      <td>933</td>\n",
       "      <td>1</td>\n",
       "      <td>Bangalore</td>\n",
       "      <td>4300000</td>\n",
       "    </tr>\n",
       "    <tr>\n",
       "      <th>3</th>\n",
       "      <td>1</td>\n",
       "      <td>0</td>\n",
       "      <td>2</td>\n",
       "      <td>1</td>\n",
       "      <td>929</td>\n",
       "      <td>1</td>\n",
       "      <td>Ghaziabad</td>\n",
       "      <td>6200000</td>\n",
       "    </tr>\n",
       "    <tr>\n",
       "      <th>4</th>\n",
       "      <td>2</td>\n",
       "      <td>1</td>\n",
       "      <td>2</td>\n",
       "      <td>1</td>\n",
       "      <td>999</td>\n",
       "      <td>1</td>\n",
       "      <td>Kolkata</td>\n",
       "      <td>6000000</td>\n",
       "    </tr>\n",
       "  </tbody>\n",
       "</table>\n",
       "</div>"
      ],
      "text/plain": [
       "   POSTED_BY  UNDER_CONSTRUCTION  BHK_NO.  BHK_OR_RK  SQUARE_FT  RESALE  \\\n",
       "0          1                   0        2          1       1300       1   \n",
       "1          2                   0        2          1       1275       1   \n",
       "2          1                   0        2          1        933       1   \n",
       "3          1                   0        2          1        929       1   \n",
       "4          2                   1        2          1        999       1   \n",
       "\n",
       "    LOCATION    PRICE  \n",
       "0  Bangalore  5500000  \n",
       "1     Mysore  5100000  \n",
       "2  Bangalore  4300000  \n",
       "3  Ghaziabad  6200000  \n",
       "4    Kolkata  6000000  "
      ]
     },
     "execution_count": 33,
     "metadata": {},
     "output_type": "execute_result"
    }
   ],
   "source": [
    "df.head() "
   ]
  },
  {
   "cell_type": "code",
   "execution_count": 34,
   "id": "91f9348c",
   "metadata": {},
   "outputs": [
    {
     "data": {
      "text/plain": [
       "Bangalore    4242\n",
       "Lalitpur     2924\n",
       "Mumbai       1988\n",
       "Pune         1966\n",
       "Noida        1696\n",
       "             ... \n",
       "Kangra          1\n",
       "Osmanabad       1\n",
       "Palanpur        1\n",
       "Dahod           1\n",
       "Idukki          1\n",
       "Name: LOCATION, Length: 252, dtype: int64"
      ]
     },
     "execution_count": 34,
     "metadata": {},
     "output_type": "execute_result"
    }
   ],
   "source": [
    "df['LOCATION'].value_counts()"
   ]
  },
  {
   "cell_type": "code",
   "execution_count": 35,
   "id": "b1e44a75",
   "metadata": {},
   "outputs": [],
   "source": [
    "location_count = df['LOCATION'].value_counts()"
   ]
  },
  {
   "cell_type": "code",
   "execution_count": 36,
   "id": "7f5ff49c",
   "metadata": {},
   "outputs": [
    {
     "data": {
      "text/plain": [
       "Ludhiana      30\n",
       "Hubli         30\n",
       "Dhanbad       30\n",
       "Amravati      28\n",
       "Ahmednagar    25\n",
       "              ..\n",
       "Kangra         1\n",
       "Osmanabad      1\n",
       "Palanpur       1\n",
       "Dahod          1\n",
       "Idukki         1\n",
       "Name: LOCATION, Length: 177, dtype: int64"
      ]
     },
     "execution_count": 36,
     "metadata": {},
     "output_type": "execute_result"
    }
   ],
   "source": [
    "location_count_less_30 = location_count[location_count <= 30]\n",
    "location_count_less_30"
   ]
  },
  {
   "cell_type": "code",
   "execution_count": 37,
   "id": "9c7c45fc",
   "metadata": {},
   "outputs": [],
   "source": [
    "df['LOCATION'] = df['LOCATION'].apply(lambda x: 'Others' if x in location_count_less_30 else x)"
   ]
  },
  {
   "cell_type": "code",
   "execution_count": 38,
   "id": "75d08bd5",
   "metadata": {},
   "outputs": [
    {
     "data": {
      "text/plain": [
       "Bangalore    4242\n",
       "Lalitpur     2924\n",
       "Mumbai       1988\n",
       "Pune         1966\n",
       "Noida        1696\n",
       "             ... \n",
       "Kolhapur       33\n",
       "Guntur         32\n",
       "Madurai        31\n",
       "Bhavnagar      31\n",
       "Panaji         31\n",
       "Name: LOCATION, Length: 76, dtype: int64"
      ]
     },
     "execution_count": 38,
     "metadata": {},
     "output_type": "execute_result"
    }
   ],
   "source": [
    "df['LOCATION'].value_counts()"
   ]
  },
  {
   "cell_type": "code",
   "execution_count": 39,
   "id": "2ab3f1f3",
   "metadata": {},
   "outputs": [
    {
     "data": {
      "text/html": [
       "<div>\n",
       "<style scoped>\n",
       "    .dataframe tbody tr th:only-of-type {\n",
       "        vertical-align: middle;\n",
       "    }\n",
       "\n",
       "    .dataframe tbody tr th {\n",
       "        vertical-align: top;\n",
       "    }\n",
       "\n",
       "    .dataframe thead th {\n",
       "        text-align: right;\n",
       "    }\n",
       "</style>\n",
       "<table border=\"1\" class=\"dataframe\">\n",
       "  <thead>\n",
       "    <tr style=\"text-align: right;\">\n",
       "      <th></th>\n",
       "      <th>POSTED_BY</th>\n",
       "      <th>UNDER_CONSTRUCTION</th>\n",
       "      <th>BHK_NO.</th>\n",
       "      <th>BHK_OR_RK</th>\n",
       "      <th>SQUARE_FT</th>\n",
       "      <th>RESALE</th>\n",
       "      <th>LOCATION</th>\n",
       "      <th>PRICE</th>\n",
       "    </tr>\n",
       "  </thead>\n",
       "  <tbody>\n",
       "    <tr>\n",
       "      <th>0</th>\n",
       "      <td>1</td>\n",
       "      <td>0</td>\n",
       "      <td>2</td>\n",
       "      <td>1</td>\n",
       "      <td>1300</td>\n",
       "      <td>1</td>\n",
       "      <td>Bangalore</td>\n",
       "      <td>5500000</td>\n",
       "    </tr>\n",
       "    <tr>\n",
       "      <th>1</th>\n",
       "      <td>2</td>\n",
       "      <td>0</td>\n",
       "      <td>2</td>\n",
       "      <td>1</td>\n",
       "      <td>1275</td>\n",
       "      <td>1</td>\n",
       "      <td>Mysore</td>\n",
       "      <td>5100000</td>\n",
       "    </tr>\n",
       "    <tr>\n",
       "      <th>2</th>\n",
       "      <td>1</td>\n",
       "      <td>0</td>\n",
       "      <td>2</td>\n",
       "      <td>1</td>\n",
       "      <td>933</td>\n",
       "      <td>1</td>\n",
       "      <td>Bangalore</td>\n",
       "      <td>4300000</td>\n",
       "    </tr>\n",
       "    <tr>\n",
       "      <th>3</th>\n",
       "      <td>1</td>\n",
       "      <td>0</td>\n",
       "      <td>2</td>\n",
       "      <td>1</td>\n",
       "      <td>929</td>\n",
       "      <td>1</td>\n",
       "      <td>Ghaziabad</td>\n",
       "      <td>6200000</td>\n",
       "    </tr>\n",
       "    <tr>\n",
       "      <th>4</th>\n",
       "      <td>2</td>\n",
       "      <td>1</td>\n",
       "      <td>2</td>\n",
       "      <td>1</td>\n",
       "      <td>999</td>\n",
       "      <td>1</td>\n",
       "      <td>Kolkata</td>\n",
       "      <td>6000000</td>\n",
       "    </tr>\n",
       "  </tbody>\n",
       "</table>\n",
       "</div>"
      ],
      "text/plain": [
       "   POSTED_BY  UNDER_CONSTRUCTION  BHK_NO.  BHK_OR_RK  SQUARE_FT  RESALE  \\\n",
       "0          1                   0        2          1       1300       1   \n",
       "1          2                   0        2          1       1275       1   \n",
       "2          1                   0        2          1        933       1   \n",
       "3          1                   0        2          1        929       1   \n",
       "4          2                   1        2          1        999       1   \n",
       "\n",
       "    LOCATION    PRICE  \n",
       "0  Bangalore  5500000  \n",
       "1     Mysore  5100000  \n",
       "2  Bangalore  4300000  \n",
       "3  Ghaziabad  6200000  \n",
       "4    Kolkata  6000000  "
      ]
     },
     "execution_count": 39,
     "metadata": {},
     "output_type": "execute_result"
    }
   ],
   "source": [
    "df.head()"
   ]
  },
  {
   "cell_type": "code",
   "execution_count": 40,
   "id": "c3dfb486",
   "metadata": {},
   "outputs": [
    {
     "data": {
      "text/plain": [
       "<AxesSubplot:xlabel='POSTED_BY'>"
      ]
     },
     "execution_count": 40,
     "metadata": {},
     "output_type": "execute_result"
    },
    {
     "data": {
      "image/png": "[encoded data removed]",
      "text/plain": [
       "<Figure size 864x288 with 2 Axes>"
      ]
     },
     "metadata": {},
     "output_type": "display_data"
    }
   ],
   "source": [
    "plt.figure(figsize=(12,4))\n",
    "plt.subplot(1,2,1)\n",
    "sns.distplot(df['POSTED_BY'], color='r')\n",
    "\n",
    "plt.subplot(1,2,2)\n",
    "sns.boxplot(df['POSTED_BY'])"
   ]
  },
  {
   "cell_type": "code",
   "execution_count": 41,
   "id": "680d08ee",
   "metadata": {},
   "outputs": [
    {
     "data": {
      "text/plain": [
       "<AxesSubplot:xlabel='BHK_NO.'>"
      ]
     },
     "execution_count": 41,
     "metadata": {},
     "output_type": "execute_result"
    },
    {
     "data": {
      "image/png": "[encoded data removed]",
      "text/plain": [
       "<Figure size 864x288 with 2 Axes>"
      ]
     },
     "metadata": {},
     "output_type": "display_data"
    }
   ],
   "source": [
    "plt.figure(figsize=(12,4))\n",
    "plt.subplot(1,2,1)\n",
    "sns.distplot(df['BHK_NO.'], color='r')\n",
    "\n",
    "plt.subplot(1,2,2)\n",
    "sns.boxplot(df['BHK_NO.'])"
   ]
  },
  {
   "cell_type": "code",
   "execution_count": 42,
   "id": "5881caf9",
   "metadata": {},
   "outputs": [
    {
     "data": {
      "text/plain": [
       "<AxesSubplot:xlabel='SQUARE_FT'>"
      ]
     },
     "execution_count": 42,
     "metadata": {},
     "output_type": "execute_result"
    },
    {
     "data": {
      "image/png": "[encoded data removed]",
      "text/plain": [
       "<Figure size 864x288 with 2 Axes>"
      ]
     },
     "metadata": {},
     "output_type": "display_data"
    }
   ],
   "source": [
    "plt.figure(figsize=(12,4))\n",
    "plt.subplot(1,2,1)\n",
    "sns.distplot(df['SQUARE_FT'], color='r')\n",
    "\n",
    "plt.subplot(1,2,2)\n",
    "sns.boxplot(df['SQUARE_FT'])"
   ]
  },
  {
   "cell_type": "code",
   "execution_count": 43,
   "id": "c7cdbaf9",
   "metadata": {},
   "outputs": [
    {
     "data": {
      "text/plain": [
       "636.0"
      ]
     },
     "execution_count": 43,
     "metadata": {},
     "output_type": "execute_result"
    }
   ],
   "source": [
    "per75 = df['SQUARE_FT'].quantile(0.75) \n",
    "per25 = df['SQUARE_FT'].quantile(0.25)\n",
    "\n",
    "iqr = per75 - per25\n",
    "iqr"
   ]
  },
  {
   "cell_type": "code",
   "execution_count": 44,
   "id": "098e1660",
   "metadata": {},
   "outputs": [
    {
     "name": "stdout",
     "output_type": "stream",
     "text": [
      "upper_l 2489.0\n",
      "lower_l -55.0\n"
     ]
    }
   ],
   "source": [
    "upper_limit = per75 + 1.5 * iqr\n",
    "lower_limit = per25 - 1.5 * iqr\n",
    "\n",
    "print('upper_l', upper_limit)\n",
    "print('lower_l', lower_limit)"
   ]
  },
  {
   "cell_type": "code",
   "execution_count": 45,
   "id": "7daf6034",
   "metadata": {},
   "outputs": [],
   "source": [
    "df = df[(df['SQUARE_FT'] < upper_limit) & (df['SQUARE_FT'] > lower_limit)]"
   ]
  },
  {
   "cell_type": "code",
   "execution_count": 46,
   "id": "e58fa8f6",
   "metadata": {},
   "outputs": [
    {
     "data": {
      "text/plain": [
       "<AxesSubplot:xlabel='SQUARE_FT'>"
      ]
     },
     "execution_count": 46,
     "metadata": {},
     "output_type": "execute_result"
    },
    {
     "data": {
      "image/png": "[encoded data removed]",
      "text/plain": [
       "<Figure size 864x288 with 2 Axes>"
      ]
     },
     "metadata": {},
     "output_type": "display_data"
    }
   ],
   "source": [
    "plt.figure(figsize=(12,4))\n",
    "plt.subplot(1,2,1)\n",
    "sns.distplot(df['SQUARE_FT'], color='r')\n",
    "\n",
    "plt.subplot(1,2,2)\n",
    "sns.boxplot(df['SQUARE_FT'])"
   ]
  },
  {
   "cell_type": "code",
   "execution_count": 47,
   "id": "f57de496",
   "metadata": {},
   "outputs": [
    {
     "data": {
      "text/plain": [
       "<AxesSubplot:xlabel='PRICE'>"
      ]
     },
     "execution_count": 47,
     "metadata": {},
     "output_type": "execute_result"
    },
    {
     "data": {
      "image/png": "[encoded data removed]",
      "text/plain": [
       "<Figure size 864x288 with 2 Axes>"
      ]
     },
     "metadata": {},
     "output_type": "display_data"
    }
   ],
   "source": [
    "plt.figure(figsize=(12,4))\n",
    "plt.subplot(1,2,1)\n",
    "sns.distplot(df['PRICE'], color='r')\n",
    "\n",
    "plt.subplot(1,2,2)\n",
    "sns.boxplot(df['PRICE'])"
   ]
  },
  {
   "cell_type": "code",
   "execution_count": 48,
   "id": "d76a3deb",
   "metadata": {},
   "outputs": [
    {
     "data": {
      "text/plain": [
       "5900000.0"
      ]
     },
     "execution_count": 48,
     "metadata": {},
     "output_type": "execute_result"
    }
   ],
   "source": [
    "per75 = df['PRICE'].quantile(0.75) \n",
    "per25 = df['PRICE'].quantile(0.25)\n",
    "\n",
    "iqr = per75 - per25\n",
    "iqr"
   ]
  },
  {
   "cell_type": "code",
   "execution_count": 49,
   "id": "4f638b2c",
   "metadata": {},
   "outputs": [
    {
     "name": "stdout",
     "output_type": "stream",
     "text": [
      "upper_l 18350000.0\n",
      "lower_l -5250000.0\n"
     ]
    }
   ],
   "source": [
    "upper_limit = per75 + 1.5 * iqr\n",
    "lower_limit = per25 - 1.5 * iqr\n",
    "\n",
    "print('upper_l', upper_limit)\n",
    "print('lower_l', lower_limit)"
   ]
  },
  {
   "cell_type": "code",
   "execution_count": 50,
   "id": "6c383217",
   "metadata": {},
   "outputs": [],
   "source": [
    "df = df[(df['PRICE'] < upper_limit) & (df['PRICE'] > lower_limit)]"
   ]
  },
  {
   "cell_type": "code",
   "execution_count": 51,
   "id": "653e73c3",
   "metadata": {},
   "outputs": [
    {
     "data": {
      "text/plain": [
       "<AxesSubplot:xlabel='PRICE'>"
      ]
     },
     "execution_count": 51,
     "metadata": {},
     "output_type": "execute_result"
    },
    {
     "data": {
      "image/png": "[encoded data removed]",
      "text/plain": [
       "<Figure size 864x288 with 2 Axes>"
      ]
     },
     "metadata": {},
     "output_type": "display_data"
    }
   ],
   "source": [
    "plt.figure(figsize=(12,4))\n",
    "plt.subplot(1,2,1)\n",
    "sns.distplot(df['PRICE'], color='r')\n",
    "\n",
    "plt.subplot(1,2,2)\n",
    "sns.boxplot(df['PRICE'])"
   ]
  },
  {
   "cell_type": "code",
   "execution_count": 52,
   "id": "2aea9f7d",
   "metadata": {},
   "outputs": [
    {
     "data": {
      "text/plain": [
       "<AxesSubplot:>"
      ]
     },
     "execution_count": 52,
     "metadata": {},
     "output_type": "execute_result"
    },
    {
     "data": {
      "image/png": "[encoded data removed]",
      "text/plain": [
       "<Figure size 432x288 with 2 Axes>"
      ]
     },
     "metadata": {},
     "output_type": "display_data"
    }
   ],
   "source": [
    "sns.heatmap(df.corr(), annot=True)"
   ]
  },
  {
   "cell_type": "code",
   "execution_count": 53,
   "id": "bdd54cec",
   "metadata": {},
   "outputs": [
    {
     "data": {
      "text/html": [
       "<div>\n",
       "<style scoped>\n",
       "    .dataframe tbody tr th:only-of-type {\n",
       "        vertical-align: middle;\n",
       "    }\n",
       "\n",
       "    .dataframe tbody tr th {\n",
       "        vertical-align: top;\n",
       "    }\n",
       "\n",
       "    .dataframe thead th {\n",
       "        text-align: right;\n",
       "    }\n",
       "</style>\n",
       "<table border=\"1\" class=\"dataframe\">\n",
       "  <thead>\n",
       "    <tr style=\"text-align: right;\">\n",
       "      <th></th>\n",
       "      <th>POSTED_BY</th>\n",
       "      <th>UNDER_CONSTRUCTION</th>\n",
       "      <th>BHK_NO.</th>\n",
       "      <th>BHK_OR_RK</th>\n",
       "      <th>SQUARE_FT</th>\n",
       "      <th>RESALE</th>\n",
       "      <th>LOCATION</th>\n",
       "      <th>PRICE</th>\n",
       "    </tr>\n",
       "  </thead>\n",
       "  <tbody>\n",
       "    <tr>\n",
       "      <th>0</th>\n",
       "      <td>1</td>\n",
       "      <td>0</td>\n",
       "      <td>2</td>\n",
       "      <td>1</td>\n",
       "      <td>1300</td>\n",
       "      <td>1</td>\n",
       "      <td>Bangalore</td>\n",
       "      <td>5500000</td>\n",
       "    </tr>\n",
       "    <tr>\n",
       "      <th>1</th>\n",
       "      <td>2</td>\n",
       "      <td>0</td>\n",
       "      <td>2</td>\n",
       "      <td>1</td>\n",
       "      <td>1275</td>\n",
       "      <td>1</td>\n",
       "      <td>Mysore</td>\n",
       "      <td>5100000</td>\n",
       "    </tr>\n",
       "    <tr>\n",
       "      <th>2</th>\n",
       "      <td>1</td>\n",
       "      <td>0</td>\n",
       "      <td>2</td>\n",
       "      <td>1</td>\n",
       "      <td>933</td>\n",
       "      <td>1</td>\n",
       "      <td>Bangalore</td>\n",
       "      <td>4300000</td>\n",
       "    </tr>\n",
       "    <tr>\n",
       "      <th>3</th>\n",
       "      <td>1</td>\n",
       "      <td>0</td>\n",
       "      <td>2</td>\n",
       "      <td>1</td>\n",
       "      <td>929</td>\n",
       "      <td>1</td>\n",
       "      <td>Ghaziabad</td>\n",
       "      <td>6200000</td>\n",
       "    </tr>\n",
       "    <tr>\n",
       "      <th>4</th>\n",
       "      <td>2</td>\n",
       "      <td>1</td>\n",
       "      <td>2</td>\n",
       "      <td>1</td>\n",
       "      <td>999</td>\n",
       "      <td>1</td>\n",
       "      <td>Kolkata</td>\n",
       "      <td>6000000</td>\n",
       "    </tr>\n",
       "  </tbody>\n",
       "</table>\n",
       "</div>"
      ],
      "text/plain": [
       "   POSTED_BY  UNDER_CONSTRUCTION  BHK_NO.  BHK_OR_RK  SQUARE_FT  RESALE  \\\n",
       "0          1                   0        2          1       1300       1   \n",
       "1          2                   0        2          1       1275       1   \n",
       "2          1                   0        2          1        933       1   \n",
       "3          1                   0        2          1        929       1   \n",
       "4          2                   1        2          1        999       1   \n",
       "\n",
       "    LOCATION    PRICE  \n",
       "0  Bangalore  5500000  \n",
       "1     Mysore  5100000  \n",
       "2  Bangalore  4300000  \n",
       "3  Ghaziabad  6200000  \n",
       "4    Kolkata  6000000  "
      ]
     },
     "execution_count": 53,
     "metadata": {},
     "output_type": "execute_result"
    }
   ],
   "source": [
    "df.head()"
   ]
  },
  {
   "cell_type": "code",
   "execution_count": 54,
   "id": "a27e10b3",
   "metadata": {},
   "outputs": [],
   "source": [
    "df = df[df['BHK_OR_RK'] != 0]"
   ]
  },
  {
   "cell_type": "code",
   "execution_count": 55,
   "id": "77841f58",
   "metadata": {},
   "outputs": [],
   "source": [
    "df.drop('BHK_OR_RK', axis=1, inplace=True)"
   ]
  },
  {
   "cell_type": "code",
   "execution_count": 56,
   "id": "a5bc6c69",
   "metadata": {},
   "outputs": [],
   "source": [
    "df.drop('RESALE', axis=1, inplace=True)"
   ]
  },
  {
   "cell_type": "code",
   "execution_count": 57,
   "id": "e7953610",
   "metadata": {},
   "outputs": [
    {
     "data": {
      "text/plain": [
       "<AxesSubplot:>"
      ]
     },
     "execution_count": 57,
     "metadata": {},
     "output_type": "execute_result"
    },
    {
     "data": {
      "image/png": "[encoded data removed]",
      "text/plain": [
       "<Figure size 432x288 with 2 Axes>"
      ]
     },
     "metadata": {},
     "output_type": "display_data"
    }
   ],
   "source": [
    "sns.heatmap(df.corr(), annot=True)"
   ]
  },
  {
   "cell_type": "code",
   "execution_count": 58,
   "id": "02568368",
   "metadata": {},
   "outputs": [
    {
     "data": {
      "text/plain": [
       "5000000.0"
      ]
     },
     "execution_count": 58,
     "metadata": {},
     "output_type": "execute_result"
    }
   ],
   "source": [
    "per75 = df['PRICE'].quantile(0.75) \n",
    "per25 = df['PRICE'].quantile(0.25)\n",
    "\n",
    "iqr = per75 - per25\n",
    "iqr"
   ]
  },
  {
   "cell_type": "code",
   "execution_count": 59,
   "id": "c3d5c7c1",
   "metadata": {},
   "outputs": [
    {
     "name": "stdout",
     "output_type": "stream",
     "text": [
      "upper_l 16000000.0\n",
      "lower_l -4000000.0\n"
     ]
    }
   ],
   "source": [
    "upper_limit = per75 + 1.5 * iqr\n",
    "lower_limit = per25 - 1.5 * iqr\n",
    "\n",
    "print('upper_l', upper_limit)\n",
    "print('lower_l', lower_limit)"
   ]
  },
  {
   "cell_type": "code",
   "execution_count": 60,
   "id": "bf20da78",
   "metadata": {},
   "outputs": [],
   "source": [
    "df1 = df[(df['PRICE'] < upper_limit) & (df['PRICE'] > lower_limit)]"
   ]
  },
  {
   "cell_type": "code",
   "execution_count": 61,
   "id": "6b065233",
   "metadata": {},
   "outputs": [
    {
     "data": {
      "text/plain": [
       "<AxesSubplot:xlabel='PRICE'>"
      ]
     },
     "execution_count": 61,
     "metadata": {},
     "output_type": "execute_result"
    },
    {
     "data": {
      "image/png": "[encoded data removed]",
      "text/plain": [
       "<Figure size 864x288 with 2 Axes>"
      ]
     },
     "metadata": {},
     "output_type": "display_data"
    }
   ],
   "source": [
    "plt.figure(figsize=(12,4))\n",
    "plt.subplot(1,2,1)\n",
    "sns.distplot(df1['PRICE'], color='r')\n",
    "\n",
    "plt.subplot(1,2,2)\n",
    "sns.boxplot(df1['PRICE'])"
   ]
  },
  {
   "cell_type": "code",
   "execution_count": null,
   "id": "23e533c6",
   "metadata": {},
   "outputs": [],
   "source": []
  },
  {
   "cell_type": "code",
   "execution_count": 62,
   "id": "f19e92ed",
   "metadata": {},
   "outputs": [],
   "source": [
    "X = df1.drop('PRICE',axis=1)\n",
    "y = df1['PRICE']"
   ]
  },
  {
   "cell_type": "code",
   "execution_count": 63,
   "id": "98303a37",
   "metadata": {},
   "outputs": [],
   "source": [
    "from sklearn.model_selection import train_test_split\n",
    "X_train,X_test,y_train,y_test = train_test_split(X,y, test_size=0.2, random_state=2)"
   ]
  },
  {
   "cell_type": "code",
   "execution_count": 64,
   "id": "e2bcf3e1",
   "metadata": {},
   "outputs": [
    {
     "data": {
      "text/html": [
       "<div>\n",
       "<style scoped>\n",
       "    .dataframe tbody tr th:only-of-type {\n",
       "        vertical-align: middle;\n",
       "    }\n",
       "\n",
       "    .dataframe tbody tr th {\n",
       "        vertical-align: top;\n",
       "    }\n",
       "\n",
       "    .dataframe thead th {\n",
       "        text-align: right;\n",
       "    }\n",
       "</style>\n",
       "<table border=\"1\" class=\"dataframe\">\n",
       "  <thead>\n",
       "    <tr style=\"text-align: right;\">\n",
       "      <th></th>\n",
       "      <th>POSTED_BY</th>\n",
       "      <th>UNDER_CONSTRUCTION</th>\n",
       "      <th>BHK_NO.</th>\n",
       "      <th>SQUARE_FT</th>\n",
       "      <th>LOCATION</th>\n",
       "    </tr>\n",
       "  </thead>\n",
       "  <tbody>\n",
       "    <tr>\n",
       "      <th>22435</th>\n",
       "      <td>2</td>\n",
       "      <td>0</td>\n",
       "      <td>3</td>\n",
       "      <td>1355</td>\n",
       "      <td>Chennai</td>\n",
       "    </tr>\n",
       "    <tr>\n",
       "      <th>21408</th>\n",
       "      <td>2</td>\n",
       "      <td>0</td>\n",
       "      <td>2</td>\n",
       "      <td>1206</td>\n",
       "      <td>Gandhinagar</td>\n",
       "    </tr>\n",
       "    <tr>\n",
       "      <th>8639</th>\n",
       "      <td>1</td>\n",
       "      <td>0</td>\n",
       "      <td>2</td>\n",
       "      <td>590</td>\n",
       "      <td>Chennai</td>\n",
       "    </tr>\n",
       "    <tr>\n",
       "      <th>26991</th>\n",
       "      <td>2</td>\n",
       "      <td>1</td>\n",
       "      <td>2</td>\n",
       "      <td>1311</td>\n",
       "      <td>Gurgaon</td>\n",
       "    </tr>\n",
       "    <tr>\n",
       "      <th>5937</th>\n",
       "      <td>1</td>\n",
       "      <td>0</td>\n",
       "      <td>2</td>\n",
       "      <td>900</td>\n",
       "      <td>Kolkata</td>\n",
       "    </tr>\n",
       "  </tbody>\n",
       "</table>\n",
       "</div>"
      ],
      "text/plain": [
       "       POSTED_BY  UNDER_CONSTRUCTION  BHK_NO.  SQUARE_FT     LOCATION\n",
       "22435          2                   0        3       1355      Chennai\n",
       "21408          2                   0        2       1206  Gandhinagar\n",
       "8639           1                   0        2        590      Chennai\n",
       "26991          2                   1        2       1311      Gurgaon\n",
       "5937           1                   0        2        900      Kolkata"
      ]
     },
     "execution_count": 64,
     "metadata": {},
     "output_type": "execute_result"
    }
   ],
   "source": [
    "X_train.head()"
   ]
  },
  {
   "cell_type": "code",
   "execution_count": 65,
   "id": "2e236597",
   "metadata": {},
   "outputs": [],
   "source": [
    "from sklearn.compose import ColumnTransformer\n",
    "from sklearn.pipeline import Pipeline\n",
    "from sklearn.preprocessing import OneHotEncoder\n",
    "from sklearn.metrics import r2_score"
   ]
  },
  {
   "cell_type": "code",
   "execution_count": 69,
   "id": "1e76f7cc",
   "metadata": {},
   "outputs": [
    {
     "name": "stdout",
     "output_type": "stream",
     "text": [
      "--------------train score-----------------\n",
      "r2 score: 0.7289279624382701\n",
      "--------------test score------------------\n",
      "r2 score: 0.6524399307217645\n"
     ]
    }
   ],
   "source": [
    "from xgboost import XGBRegressor\n",
    "\n",
    "step1 = ColumnTransformer([\n",
    "    ('ohe', OneHotEncoder(sparse=False, drop='first'),[4])\n",
    "],remainder='passthrough')\n",
    "\n",
    "step2 = XGBRegressor()\n",
    "\n",
    "pipe = Pipeline([\n",
    "    ('step1',step1),\n",
    "    ('step2',step2)\n",
    "])\n",
    "\n",
    "pipe.fit(X_train,y_train)\n",
    "\n",
    "y_pred = pipe.predict(X_test)\n",
    "y_pred_1 = pipe.predict(X_train)\n",
    "\n",
    "print('--------------train score-----------------')\n",
    "print('r2 score:', r2_score(y_train,y_pred_1))\n",
    "print('--------------test score------------------')\n",
    "print('r2 score:', r2_score(y_test,y_pred))"
   ]
  },
  {
   "cell_type": "code",
   "execution_count": 76,
   "id": "fe5addd8",
   "metadata": {},
   "outputs": [
    {
     "name": "stdout",
     "output_type": "stream",
     "text": [
      "--------------train score-----------------\n",
      "r2 score: 0.6106517297934415\n",
      "--------------test score------------------\n",
      "r2 score: 0.6026954773066566\n"
     ]
    }
   ],
   "source": [
    "from sklearn.linear_model import LinearRegression\n",
    "\n",
    "step1 = ColumnTransformer([\n",
    "    ('ohe', OneHotEncoder(sparse=False, drop='first'),[4])\n",
    "],remainder='passthrough')\n",
    "\n",
    "step2 = LinearRegression(normalize=True)\n",
    "\n",
    "pipe = Pipeline([\n",
    "    ('step1',step1),\n",
    "    ('step2',step2)\n",
    "])\n",
    "\n",
    "pipe.fit(X_train,y_train)\n",
    "\n",
    "y_pred = pipe.predict(X_test)\n",
    "y_pred_1 = pipe.predict(X_train)\n",
    "\n",
    "print('--------------train score-----------------')\n",
    "print('r2 score:', r2_score(y_train,y_pred_1))\n",
    "print('--------------test score------------------')\n",
    "print('r2 score:', r2_score(y_test,y_pred))"
   ]
  },
  {
   "cell_type": "code",
   "execution_count": 77,
   "id": "f1b0253a",
   "metadata": {},
   "outputs": [],
   "source": [
    "import pickle\n",
    "\n",
    "pickle.dump(pipe, open('pipe.pkl','wb'))\n",
    "pickle.dump(df1, open('df.pkl','wb'))"
   ]
  },
  {
   "cell_type": "code",
   "execution_count": 73,
   "id": "3a633558",
   "metadata": {},
   "outputs": [
    {
     "data": {
      "text/html": [
       "<div>\n",
       "<style scoped>\n",
       "    .dataframe tbody tr th:only-of-type {\n",
       "        vertical-align: middle;\n",
       "    }\n",
       "\n",
       "    .dataframe tbody tr th {\n",
       "        vertical-align: top;\n",
       "    }\n",
       "\n",
       "    .dataframe thead th {\n",
       "        text-align: right;\n",
       "    }\n",
       "</style>\n",
       "<table border=\"1\" class=\"dataframe\">\n",
       "  <thead>\n",
       "    <tr style=\"text-align: right;\">\n",
       "      <th></th>\n",
       "      <th>POSTED_BY</th>\n",
       "      <th>UNDER_CONSTRUCTION</th>\n",
       "      <th>BHK_NO.</th>\n",
       "      <th>SQUARE_FT</th>\n",
       "      <th>LOCATION</th>\n",
       "    </tr>\n",
       "  </thead>\n",
       "  <tbody>\n",
       "    <tr>\n",
       "      <th>22435</th>\n",
       "      <td>2</td>\n",
       "      <td>0</td>\n",
       "      <td>3</td>\n",
       "      <td>1355</td>\n",
       "      <td>Chennai</td>\n",
       "    </tr>\n",
       "    <tr>\n",
       "      <th>21408</th>\n",
       "      <td>2</td>\n",
       "      <td>0</td>\n",
       "      <td>2</td>\n",
       "      <td>1206</td>\n",
       "      <td>Gandhinagar</td>\n",
       "    </tr>\n",
       "    <tr>\n",
       "      <th>8639</th>\n",
       "      <td>1</td>\n",
       "      <td>0</td>\n",
       "      <td>2</td>\n",
       "      <td>590</td>\n",
       "      <td>Chennai</td>\n",
       "    </tr>\n",
       "    <tr>\n",
       "      <th>26991</th>\n",
       "      <td>2</td>\n",
       "      <td>1</td>\n",
       "      <td>2</td>\n",
       "      <td>1311</td>\n",
       "      <td>Gurgaon</td>\n",
       "    </tr>\n",
       "    <tr>\n",
       "      <th>5937</th>\n",
       "      <td>1</td>\n",
       "      <td>0</td>\n",
       "      <td>2</td>\n",
       "      <td>900</td>\n",
       "      <td>Kolkata</td>\n",
       "    </tr>\n",
       "  </tbody>\n",
       "</table>\n",
       "</div>"
      ],
      "text/plain": [
       "       POSTED_BY  UNDER_CONSTRUCTION  BHK_NO.  SQUARE_FT     LOCATION\n",
       "22435          2                   0        3       1355      Chennai\n",
       "21408          2                   0        2       1206  Gandhinagar\n",
       "8639           1                   0        2        590      Chennai\n",
       "26991          2                   1        2       1311      Gurgaon\n",
       "5937           1                   0        2        900      Kolkata"
      ]
     },
     "execution_count": 73,
     "metadata": {},
     "output_type": "execute_result"
    }
   ],
   "source": [
    "X_train.head()"
   ]
  },
  {
   "cell_type": "code",
   "execution_count": 74,
   "id": "498205bd",
   "metadata": {},
   "outputs": [
    {
     "data": {
      "text/plain": [
       "array([9927586.], dtype=float32)"
      ]
     },
     "execution_count": 74,
     "metadata": {},
     "output_type": "execute_result"
    }
   ],
   "source": [
    "pipe.predict([[2,0,2,600,'Mumbai']])"
   ]
  },
  {
   "cell_type": "code",
   "execution_count": null,
   "id": "97ab5a52",
   "metadata": {},
   "outputs": [],
   "source": []
  }
 ],
 "metadata": {
  "kernelspec": {
   "display_name": "Python 3",
   "language": "python",
   "name": "python3"
  },
  "language_info": {
   "codemirror_mode": {
    "name": "ipython",
    "version": 3
   },
   "file_extension": ".py",
   "mimetype": "text/x-python",
   "name": "python",
   "nbconvert_exporter": "python",
   "pygments_lexer": "ipython3",
   "version": "3.9.4"
  }
 },
 "nbformat": 4,
 "nbformat_minor": 5
}
